{
  "nbformat": 4,
  "nbformat_minor": 0,
  "metadata": {
    "colab": {
      "provenance": []
    },
    "kernelspec": {
      "name": "python3",
      "display_name": "Python 3"
    },
    "language_info": {
      "name": "python"
    }
  },
  "cells": [
    {
      "cell_type": "code",
      "execution_count": 32,
      "metadata": {
        "id": "YiF_cuFxWnRE"
      },
      "outputs": [],
      "source": [
        "class Chocolate:\n",
        "  def __init__(self, price: float, add: str = None):\n",
        "    self.price = price\n",
        "    self.add = add\n",
        "    if self.price <= 0:\n",
        "      raise ValueError('Цена не может быть меньше или равна нулю')\n",
        "\n",
        "  def show_my_chocolate(self):\n",
        "    if self.add != None:\n",
        "      print(f\"Шоколадный батончик, добавка: {self.add}\")\n",
        "    else:\n",
        "      print(\"Обычный шоколадный батончик\")\n",
        "\n",
        "  def __str__(self):\n",
        "    return f\"Шоколадный батончик, {self.price} рублей\""
      ]
    },
    {
      "cell_type": "code",
      "source": [
        "milkyway = Chocolate(100, 'Нуга')"
      ],
      "metadata": {
        "id": "ZyK-55leYdIp"
      },
      "execution_count": 33,
      "outputs": []
    },
    {
      "cell_type": "code",
      "source": [
        "print(milkyway)"
      ],
      "metadata": {
        "colab": {
          "base_uri": "https://localhost:8080/"
        },
        "id": "C-dIvOMgadgb",
        "outputId": "388664ff-65e1-49ab-cc6b-dac56d1e897d"
      },
      "execution_count": 34,
      "outputs": [
        {
          "output_type": "stream",
          "name": "stdout",
          "text": [
            "Шоколадный батончик, 100 рублей\n"
          ]
        }
      ]
    },
    {
      "cell_type": "code",
      "source": [
        "milkyway.show_my_chocolate()"
      ],
      "metadata": {
        "colab": {
          "base_uri": "https://localhost:8080/"
        },
        "id": "T4raQgYZZ9Np",
        "outputId": "d9a59e41-1d52-41d0-f497-84deafefeb88"
      },
      "execution_count": 35,
      "outputs": [
        {
          "output_type": "stream",
          "name": "stdout",
          "text": [
            "Шоколадный батончик, добавка: Нуга\n"
          ]
        }
      ]
    },
    {
      "cell_type": "code",
      "source": [
        "snickers = Chocolate(0, 'Орехи')"
      ],
      "metadata": {
        "colab": {
          "base_uri": "https://localhost:8080/",
          "height": 263
        },
        "id": "kMiuqv_FYtB0",
        "outputId": "4a1d8b95-821b-40e7-a39a-fb86df75481e"
      },
      "execution_count": 36,
      "outputs": [
        {
          "output_type": "error",
          "ename": "ValueError",
          "evalue": "Цена не может быть меньше или равна нулю",
          "traceback": [
            "\u001b[0;31m---------------------------------------------------------------------------\u001b[0m",
            "\u001b[0;31mValueError\u001b[0m                                Traceback (most recent call last)",
            "\u001b[0;32m<ipython-input-36-56439479f9fc>\u001b[0m in \u001b[0;36m<cell line: 1>\u001b[0;34m()\u001b[0m\n\u001b[0;32m----> 1\u001b[0;31m \u001b[0msnickers\u001b[0m \u001b[0;34m=\u001b[0m \u001b[0mChocolate\u001b[0m\u001b[0;34m(\u001b[0m\u001b[0;36m0\u001b[0m\u001b[0;34m,\u001b[0m \u001b[0;34m'Орехи'\u001b[0m\u001b[0;34m)\u001b[0m\u001b[0;34m\u001b[0m\u001b[0;34m\u001b[0m\u001b[0m\n\u001b[0m",
            "\u001b[0;32m<ipython-input-32-aa93c7ccdb25>\u001b[0m in \u001b[0;36m__init__\u001b[0;34m(self, price, add)\u001b[0m\n\u001b[1;32m      4\u001b[0m     \u001b[0mself\u001b[0m\u001b[0;34m.\u001b[0m\u001b[0madd\u001b[0m \u001b[0;34m=\u001b[0m \u001b[0madd\u001b[0m\u001b[0;34m\u001b[0m\u001b[0;34m\u001b[0m\u001b[0m\n\u001b[1;32m      5\u001b[0m     \u001b[0;32mif\u001b[0m \u001b[0mself\u001b[0m\u001b[0;34m.\u001b[0m\u001b[0mprice\u001b[0m \u001b[0;34m<=\u001b[0m \u001b[0;36m0\u001b[0m\u001b[0;34m:\u001b[0m\u001b[0;34m\u001b[0m\u001b[0;34m\u001b[0m\u001b[0m\n\u001b[0;32m----> 6\u001b[0;31m       \u001b[0;32mraise\u001b[0m \u001b[0mValueError\u001b[0m\u001b[0;34m(\u001b[0m\u001b[0;34m'Цена не может быть меньше или равна нулю'\u001b[0m\u001b[0;34m)\u001b[0m\u001b[0;34m\u001b[0m\u001b[0;34m\u001b[0m\u001b[0m\n\u001b[0m\u001b[1;32m      7\u001b[0m \u001b[0;34m\u001b[0m\u001b[0m\n\u001b[1;32m      8\u001b[0m   \u001b[0;32mdef\u001b[0m \u001b[0mshow_my_chocolate\u001b[0m\u001b[0;34m(\u001b[0m\u001b[0mself\u001b[0m\u001b[0;34m)\u001b[0m\u001b[0;34m:\u001b[0m\u001b[0;34m\u001b[0m\u001b[0;34m\u001b[0m\u001b[0m\n",
            "\u001b[0;31mValueError\u001b[0m: Цена не может быть меньше или равна нулю"
          ]
        }
      ]
    },
    {
      "cell_type": "code",
      "source": [
        "mars = Chocolate(50)\n",
        "print(mars.add)"
      ],
      "metadata": {
        "colab": {
          "base_uri": "https://localhost:8080/"
        },
        "id": "slq0oZYZYpLl",
        "outputId": "856559e6-337e-416e-c760-c4db624c703d"
      },
      "execution_count": 37,
      "outputs": [
        {
          "output_type": "stream",
          "name": "stdout",
          "text": [
            "None\n"
          ]
        }
      ]
    },
    {
      "cell_type": "code",
      "source": [
        "mars.show_my_chocolate()"
      ],
      "metadata": {
        "colab": {
          "base_uri": "https://localhost:8080/"
        },
        "id": "iv_hckm2YqUa",
        "outputId": "2523887d-92aa-451f-961e-9692f2db7dcd"
      },
      "execution_count": 38,
      "outputs": [
        {
          "output_type": "stream",
          "name": "stdout",
          "text": [
            "Обычный шоколадный батончик\n"
          ]
        }
      ]
    },
    {
      "cell_type": "code",
      "source": [
        "print(mars)"
      ],
      "metadata": {
        "colab": {
          "base_uri": "https://localhost:8080/"
        },
        "id": "CymLR5fcaKYz",
        "outputId": "60db23fe-03dc-42dc-a462-e4d244ea9251"
      },
      "execution_count": 39,
      "outputs": [
        {
          "output_type": "stream",
          "name": "stdout",
          "text": [
            "Шоколадный батончик, 50 рублей\n"
          ]
        }
      ]
    },
    {
      "cell_type": "code",
      "source": [],
      "metadata": {
        "id": "Ttv7b3xNa4_T"
      },
      "execution_count": null,
      "outputs": []
    }
  ]
}